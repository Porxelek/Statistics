{
  "nbformat": 4,
  "nbformat_minor": 0,
  "metadata": {
    "colab": {
      "name": "Statistic_Assigment_4.ipynb",
      "provenance": [],
      "authorship_tag": "ABX9TyNLuG6OUsqZmqcBSWbPWEO2",
      "include_colab_link": true
    },
    "kernelspec": {
      "name": "python3",
      "display_name": "Python 3"
    },
    "language_info": {
      "name": "python"
    }
  },
  "cells": [
    {
      "cell_type": "markdown",
      "metadata": {
        "id": "view-in-github",
        "colab_type": "text"
      },
      "source": [
        "<a href=\"https://colab.research.google.com/github/Porxelek/Statistics/blob/main/Statistic_Assigment_4.ipynb\" target=\"_parent\"><img src=\"https://colab.research.google.com/assets/colab-badge.svg\" alt=\"Open In Colab\"/></a>"
      ]
    },
    {
      "cell_type": "markdown",
      "source": [
        "#ASSIGNMENT (PROBABILITY DISTRIBUTIONS)\n"
      ],
      "metadata": {
        "id": "llJMHgpcUGVT"
      }
    },
    {
      "cell_type": "code",
      "execution_count": 1,
      "metadata": {
        "id": "LG1W04dDQQXA"
      },
      "outputs": [],
      "source": [
        "import numpy as np\n",
        "import pandas as pd\n",
        "from scipy import stats\n",
        "import seaborn as sns\n",
        "import matplotlib.pyplot as plt"
      ]
    },
    {
      "cell_type": "markdown",
      "source": [
        "**EXERCISE 1.** \\\n",
        "\n",
        "Answer the following questions by looking at the distribution table or coding with Python.\n",
        "\n"
      ],
      "metadata": {
        "id": "yVXuNpKDUa2I"
      }
    },
    {
      "cell_type": "markdown",
      "source": [
        "1. A salesperson has found that the probability of a sale on a single contact is approximately .3. If the salesperson contacts 10 prospects, what is the approximate probability of making at least one sale? (Wackerly, Ex.3.135)\n"
      ],
      "metadata": {
        "id": "opocE73ZVo1q"
      }
    },
    {
      "cell_type": "code",
      "source": [
        "n = 10\n",
        "p = 0.3\n",
        "x = 0"
      ],
      "metadata": {
        "id": "Vb4EKAQuVl0u"
      },
      "execution_count": 3,
      "outputs": []
    },
    {
      "cell_type": "code",
      "source": [
        "stats.binom.pmf(x, n, p)"
      ],
      "metadata": {
        "colab": {
          "base_uri": "https://localhost:8080/"
        },
        "id": "WPYjPmazad4N",
        "outputId": "d206f5d5-f086-4c66-b738-5713ddf07cbb"
      },
      "execution_count": null,
      "outputs": [
        {
          "output_type": "execute_result",
          "data": {
            "text/plain": [
              "0.028247524900000005"
            ]
          },
          "metadata": {},
          "execution_count": 8
        }
      ]
    },
    {
      "cell_type": "code",
      "source": [
        "1 - stats.binom.pmf(x, n, p)"
      ],
      "metadata": {
        "colab": {
          "base_uri": "https://localhost:8080/"
        },
        "id": "VKGyCibNZyVQ",
        "outputId": "11b0a3d2-1a87-4d64-8770-29b2f1c26d01"
      },
      "execution_count": 4,
      "outputs": [
        {
          "output_type": "execute_result",
          "data": {
            "text/plain": [
              "0.9717524751"
            ]
          },
          "metadata": {},
          "execution_count": 4
        }
      ]
    },
    {
      "cell_type": "code",
      "source": [
        "stats.binom.pmf(1, n, p) + stats.binom.pmf(2, n, p) + stats.binom.pmf(3, n, p) + stats.binom.pmf(4, n, p) + stats.binom.pmf(5, n, p) + stats.binom.pmf(6, n, p) + stats.binom.pmf(7, n, p) + stats.binom.pmf(8, n, p) + stats.binom.pmf(8, n, p) + stats.binom.pmf(9, n, p) + stats.binom.pmf(10, n, p)"
      ],
      "metadata": {
        "colab": {
          "base_uri": "https://localhost:8080/"
        },
        "id": "_lFCyjrEJC61",
        "outputId": "294476da-3885-429c-c612-4b7dc3eb76a3"
      },
      "execution_count": 5,
      "outputs": [
        {
          "output_type": "execute_result",
          "data": {
            "text/plain": [
              "0.9731991756000002"
            ]
          },
          "metadata": {},
          "execution_count": 5
        }
      ]
    },
    {
      "cell_type": "code",
      "source": [
        "stats.binom.cdf(10, n, p) - stats.binom.pmf(x, n, p)"
      ],
      "metadata": {
        "colab": {
          "base_uri": "https://localhost:8080/"
        },
        "id": "xo7MeJldJ6Ms",
        "outputId": "d9817392-99af-493b-d464-9f1b1fcc7547"
      },
      "execution_count": 6,
      "outputs": [
        {
          "output_type": "execute_result",
          "data": {
            "text/plain": [
              "0.9717524751"
            ]
          },
          "metadata": {},
          "execution_count": 6
        }
      ]
    },
    {
      "cell_type": "markdown",
      "source": [
        "2. Ten coins are tossed simultaneously. Find the probability of getting\\\n",
        "(i) at least seven heads\\\n",
        "(ii) exactly seven heads\\\n",
        "(iii)at most seven heads"
      ],
      "metadata": {
        "id": "fWicTGYnVus4"
      }
    },
    {
      "cell_type": "code",
      "source": [
        "n = 10 #the number of trials\n",
        "p = 0.5  #the probability of heads"
      ],
      "metadata": {
        "id": "0mpMhf-CawND"
      },
      "execution_count": 9,
      "outputs": []
    },
    {
      "cell_type": "code",
      "source": [
        "#(i)\n",
        "print(\"At most six heads :\", stats.binom.cdf(6, n, p))\n",
        "print(\"At least seven heads :\", 1 - stats.binom.cdf(6, n, p))"
      ],
      "metadata": {
        "colab": {
          "base_uri": "https://localhost:8080/"
        },
        "id": "jD6UMiL6WQrd",
        "outputId": "55e98b33-4bc6-4cdf-f658-da3b5d9ee45c"
      },
      "execution_count": null,
      "outputs": [
        {
          "output_type": "stream",
          "name": "stdout",
          "text": [
            "At most six heads : 0.828125\n",
            "At least seven heads : 0.171875\n"
          ]
        }
      ]
    },
    {
      "cell_type": "code",
      "source": [
        "#(ii)\n",
        "print(\"Exactly seven heads :\", stats.binom.pmf(k= 7, n= 10, p= 0.5))"
      ],
      "metadata": {
        "colab": {
          "base_uri": "https://localhost:8080/"
        },
        "id": "q6Q-AeJ7WUUI",
        "outputId": "ecca5491-4927-4651-b622-82705b281648"
      },
      "execution_count": 10,
      "outputs": [
        {
          "output_type": "stream",
          "name": "stdout",
          "text": [
            "Exactly seven heads : 0.11718750000000014\n"
          ]
        }
      ]
    },
    {
      "cell_type": "code",
      "source": [
        "#(iii)\n",
        "print(\"At most seven heads :\", stats.binom.cdf(7, n, p))"
      ],
      "metadata": {
        "colab": {
          "base_uri": "https://localhost:8080/"
        },
        "id": "PtQPeH9vWXFe",
        "outputId": "27bbd493-747e-4709-a550-ebe3f21c97ea"
      },
      "execution_count": null,
      "outputs": [
        {
          "output_type": "stream",
          "name": "stdout",
          "text": [
            "At most seven heads : 0.9453125\n"
          ]
        }
      ]
    },
    {
      "cell_type": "markdown",
      "source": [
        "**EXERCISE 2.** \\\n",
        "The cycle time for trucks hauling concrete to a highway construction site is uniformly distributed over the interval 50 to 70 minutes. What is the probability that the cycle time exceeds 65 minutes  if it is known that the cycle time exceeds 55 minutes? (Wackerly, Ex.4.51)\n"
      ],
      "metadata": {
        "id": "-HdPhMPfWeIG"
      }
    },
    {
      "cell_type": "code",
      "source": [
        "t1 = 50 # First cycle time\n",
        "t2 = 70 # Second cycle time\n",
        "x1 = 55 \n",
        "x2 = 65"
      ],
      "metadata": {
        "id": "d9KxCtetW6ew"
      },
      "execution_count": null,
      "outputs": []
    },
    {
      "cell_type": "code",
      "source": [
        "p1 = 1-stats.uniform.cdf(x2, t1, t2-t1) # Possibility of spinning more than 65 minutes"
      ],
      "metadata": {
        "id": "i4XR-tEplIMw"
      },
      "execution_count": null,
      "outputs": []
    },
    {
      "cell_type": "code",
      "source": [
        "p2 = 1-stats.uniform.cdf(x1, t1 , t2-t1) # Possibility of spinning more than 55 minutes"
      ],
      "metadata": {
        "id": "QbY4vQgQlucy"
      },
      "execution_count": null,
      "outputs": []
    },
    {
      "cell_type": "code",
      "source": [
        "p1 / p2 "
      ],
      "metadata": {
        "colab": {
          "base_uri": "https://localhost:8080/"
        },
        "id": "VzknrnXejEFg",
        "outputId": "4414885e-8253-4128-e6e4-62e67445ff0f"
      },
      "execution_count": null,
      "outputs": [
        {
          "output_type": "execute_result",
          "data": {
            "text/plain": [
              "0.3333333333333333"
            ]
          },
          "metadata": {},
          "execution_count": 28
        }
      ]
    },
    {
      "cell_type": "markdown",
      "source": [
        "**EXERCISE 3.** \n",
        "\\\n",
        "The width of bolts of fabric is normally distributed with mean 950 mm (millimeters) and standard deviation 10 mm.\n",
        "\n"
      ],
      "metadata": {
        "id": "V4BylRMJXEcK"
      }
    },
    {
      "cell_type": "markdown",
      "source": [
        "1.\tWhat is the probability that a randomly chosen bolt has a width of between 947 and 958mm?\n"
      ],
      "metadata": {
        "id": "qC0uLdzOXbQ7"
      }
    },
    {
      "cell_type": "code",
      "source": [
        "mu =950\n",
        "sigma =np.sqrt(10)\n",
        "x1 = 947\n",
        "x2 = 958"
      ],
      "metadata": {
        "id": "palHADdiXqFN"
      },
      "execution_count": null,
      "outputs": []
    },
    {
      "cell_type": "code",
      "source": [
        "stats.norm.cdf(x1, loc= 950, scale= 10)p947 = "
      ],
      "metadata": {
        "id": "uqtcupNsyqcR"
      },
      "execution_count": null,
      "outputs": []
    },
    {
      "cell_type": "code",
      "source": [
        "p958 = stats.norm.cdf(x2, loc= 950, scale= 10)"
      ],
      "metadata": {
        "id": "_ABlBu1ezsvR"
      },
      "execution_count": null,
      "outputs": []
    },
    {
      "cell_type": "code",
      "source": [
        "p958 - p947"
      ],
      "metadata": {
        "colab": {
          "base_uri": "https://localhost:8080/"
        },
        "id": "j9D7Li7Zz6UX",
        "outputId": "279009e6-8f0e-4001-daf3-45614294232f"
      },
      "execution_count": null,
      "outputs": [
        {
          "output_type": "execute_result",
          "data": {
            "text/plain": [
              "0.406056023605556"
            ]
          },
          "metadata": {},
          "execution_count": 33
        }
      ]
    },
    {
      "cell_type": "markdown",
      "source": [
        "2.\tWhat is the appropriate value for C such that a randomly chosen bolt has a width less than C with probability .8531? (Wackerly, Ex.4.73)"
      ],
      "metadata": {
        "id": "TlXmaEegXqeV"
      }
    },
    {
      "cell_type": "code",
      "source": [
        "p = 0.8531\n",
        "stats.norm.ppf(p)"
      ],
      "metadata": {
        "colab": {
          "base_uri": "https://localhost:8080/"
        },
        "id": "RDFoaQawXts2",
        "outputId": "896d310e-d0eb-45c4-e5ae-2d83c2bfeb32"
      },
      "execution_count": null,
      "outputs": [
        {
          "output_type": "execute_result",
          "data": {
            "text/plain": [
              "1.0498219096264123"
            ]
          },
          "metadata": {},
          "execution_count": 34
        }
      ]
    },
    {
      "cell_type": "markdown",
      "source": [
        "**EXERCISE 4.**\n",
        "\\\n",
        "Suppose scores on exams in statistics are normally distributed with an unknown population mean and a population standard deviation of 3 points. A random sample of 36 scores is taken and gives a sample mean (sample mean score) of 68. Find a confidence interval estimate for the population mean exam score (the mean score on all exams). Find a 90% confidence interval for the true (population) mean of statistics exam scores.\n"
      ],
      "metadata": {
        "id": "PjS4AM-PXvSS"
      }
    },
    {
      "cell_type": "code",
      "source": [
        "mu=68\n",
        "n=36\n",
        "sigma=3/np.sqrt(n)"
      ],
      "metadata": {
        "id": "8Jy7QGc4YCvK"
      },
      "execution_count": null,
      "outputs": []
    },
    {
      "cell_type": "code",
      "source": [
        "stats.norm.interval(0.90, loc=mu, scale=sigma)"
      ],
      "metadata": {
        "colab": {
          "base_uri": "https://localhost:8080/"
        },
        "id": "0-uLOlTY6HOo",
        "outputId": "855c7c44-0012-4886-84ef-7fb126f78cc1"
      },
      "execution_count": null,
      "outputs": [
        {
          "output_type": "execute_result",
          "data": {
            "text/plain": [
              "(67.17757318652427, 68.82242681347573)"
            ]
          },
          "metadata": {},
          "execution_count": 36
        }
      ]
    },
    {
      "cell_type": "markdown",
      "source": [
        "**EXERCISE 5.**  \n",
        "What is the normal body temperature for healthy humans? A random sample of 130 healthy human body temperatures provided by Allen Shoemaker yielded 98.25 degrees and standard deviation 0.73 degrees.\n",
        "\n"
      ],
      "metadata": {
        "id": "6-AWcKtWYDNN"
      }
    },
    {
      "cell_type": "markdown",
      "source": [
        "1.\tGive a 99% confidence interval for the average body temperature of healthy people."
      ],
      "metadata": {
        "id": "W1XEH9JLYTSQ"
      }
    },
    {
      "cell_type": "code",
      "source": [
        "mu=98.25\n",
        "n=130 \n",
        "sd=0.73\n",
        "sigma=sd/np.sqrt(n)"
      ],
      "metadata": {
        "id": "s4HJSpIfYSlX"
      },
      "execution_count": null,
      "outputs": []
    },
    {
      "cell_type": "code",
      "source": [
        "stats.norm.interval(0.99, loc=mu, scale=sigma)"
      ],
      "metadata": {
        "colab": {
          "base_uri": "https://localhost:8080/"
        },
        "id": "CRXBoPQ27rUO",
        "outputId": "1daa76a0-5a7a-4b0b-f0a3-e27e5ef151ee"
      },
      "execution_count": null,
      "outputs": [
        {
          "output_type": "execute_result",
          "data": {
            "text/plain": [
              "(98.08508192246582, 98.41491807753418)"
            ]
          },
          "metadata": {},
          "execution_count": 38
        }
      ]
    },
    {
      "cell_type": "markdown",
      "source": [
        "2.\tDoes the confidence interval obtained in part (a) contain the value 98.6 degrees, the accepted average temperature cited by physicians and others? What conclusions can you draw? (Wackerly, Ex.8.60)"
      ],
      "metadata": {
        "id": "A-Pn9LsnYeBb"
      }
    },
    {
      "cell_type": "code",
      "source": [
        "a = 98.6"
      ],
      "metadata": {
        "id": "_NHRYAbPT7qL"
      },
      "execution_count": 11,
      "outputs": []
    },
    {
      "cell_type": "code",
      "source": [
        "if a > 98.08508192246582 and a < 98.41491807753418:\n",
        "  print(\"The value {a} is in the %99 confidence interval\", format(a))\n",
        "else:\n",
        "  print(\"The value of 98.6 degrees is out of the 99% confidence interval\")"
      ],
      "metadata": {
        "id": "B2xVN34AYhnV",
        "colab": {
          "base_uri": "https://localhost:8080/"
        },
        "outputId": "0c7247ed-70fb-4203-a739-2ebbd7e6e3bb"
      },
      "execution_count": 12,
      "outputs": [
        {
          "output_type": "stream",
          "name": "stdout",
          "text": [
            "The value of 98.6 degrees is out of the 99% confidence interval\n"
          ]
        }
      ]
    },
    {
      "cell_type": "markdown",
      "source": [
        "Source: *Wackerly, D., Mendenhall, W., & Scheaffer, R. L. (2014). Mathematical statistics with applications. Cengage Learning*"
      ],
      "metadata": {
        "id": "mM56RgnrYg3r"
      }
    }
  ]
}